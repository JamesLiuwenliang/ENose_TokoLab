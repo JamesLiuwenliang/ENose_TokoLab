{
 "cells": [
  {
   "cell_type": "code",
   "execution_count": 9,
   "metadata": {
    "collapsed": true,
    "pycharm": {
     "is_executing": false
    }
   },
   "outputs": [],
   "source": [
    "import numpy as np\n",
    "import matplotlib as mpl\n",
    "import matplotlib.pyplot as plt\n",
    "from sklearn import datasets\n",
    "iris = datasets.load_iris()\n",
    "import pandas as pd\n",
    "\n",
    "None_0303_agd80 = pd.read_csv(r'C:\\Users\\Administrator\\Desktop\\Toko实验室\\Data\\Data_JupyterNotebook\\0303_agd80\\0303NONE_wax11_02_SP50_agd80.txt',sep = ',',encoding = 'utf-8')\n",
    "Oil_0303_agd80 = pd.read_csv(r'C:\\Users\\Administrator\\Desktop\\Toko实验室\\Data\\Data_JupyterNotebook\\0303_agd80\\0303鉱油(30,wax)11_02_SP50_agd80.txt',sep = ',',encoding = 'utf-8')\n",
    "OldOil_0303_agd80 = pd.read_csv(r'C:\\Users\\Administrator\\Desktop\\Toko实验室\\Data\\Data_JupyterNotebook\\0303_agd80\\0303劣化鉱油(30um,wax)11_02_SP50_agd80.txt',sep = ',',encoding = 'utf-8')\n",
    "\n",
    "None_0303_agd130 = pd.read_csv(r'C:\\Users\\Administrator\\Desktop\\Toko实验室\\Data\\Data_JupyterNotebook\\0303_agd130\\0303NONE_wax11_02_SP50.txt',sep = ',',encoding = 'utf-8')\n",
    "Oil_0303_agd130 = pd.read_csv(r'C:\\Users\\Administrator\\Desktop\\Toko实验室\\Data\\Data_JupyterNotebook\\0303_agd130\\0303鉱油(30,wax)11_02_SP50.txt',sep = ',',encoding = 'utf-8')\n",
    "OldOil_0303_agd130 = pd.read_csv(r'C:\\Users\\Administrator\\Desktop\\Toko实验室\\Data\\Data_JupyterNotebook\\0303_agd130\\0303劣化鉱油(30um,wax)11_02_SP50.txt',sep = ',',encoding = 'utf-8')\n",
    "\n",
    "None_0304_agd50 = pd.read_csv(r'C:\\Users\\Administrator\\Desktop\\Toko实验室\\Data\\Data_JupyterNotebook\\0304_agd50\\0304NONE_wax11_02_SP50_agd50.txt',sep = ',',encoding = 'utf-8')\n",
    "Oil_0304_agd50 = pd.read_csv(r'C:\\Users\\Administrator\\Desktop\\Toko实验室\\Data\\Data_JupyterNotebook\\0304_agd50\\0304鉱油(30,wax)11_02_SP50_agd50.txt',sep = ',',encoding = 'utf-8')\n",
    "OldOil_0304_agd50 = pd.read_csv(r'C:\\Users\\Administrator\\Desktop\\Toko实验室\\Data\\Data_JupyterNotebook\\0304_agd50\\0304劣化鉱油(30um,wax)11_02_SP50_agd50.txt',sep = ',',encoding = 'utf-8')\n",
    "\n",
    "None_0304_agd80 = pd.read_csv(r'C:\\Users\\Administrator\\Desktop\\Toko实验室\\Data\\Data_JupyterNotebook\\0304_agd80\\0304NONE_wax11_02_SP50_agd80.txt',sep = ',',encoding = 'utf-8')\n",
    "Oil_0304_agd80 = pd.read_csv(r'C:\\Users\\Administrator\\Desktop\\Toko实验室\\Data\\Data_JupyterNotebook\\0304_agd80\\0304鉱油(30,wax)11_02_SP50_agd80.txt',sep = ',',encoding = 'utf-8')\n",
    "OldOil_0304_agd80 = pd.read_csv(r'C:\\Users\\Administrator\\Desktop\\Toko实验室\\Data\\Data_JupyterNotebook\\0304_agd80\\0304劣化鉱油(30um,wax)11_02_SP50_agd80.txt',sep = ',',encoding = 'utf-8')\n",
    "\n",
    "None_0305_agd80_ET120 = pd.read_csv(r'C:\\Users\\Administrator\\Desktop\\Toko实验室\\Data\\Data_JupyterNotebook\\0305_ET(120_900)_agd80\\0305NONE_wax11_02_SP50_ExtraT120_agd80.txt',sep = ',',encoding = 'utf-8')\n",
    "Oil_0305_agd80_ET120 = pd.read_csv(r'C:\\Users\\Administrator\\Desktop\\Toko实验室\\Data\\Data_JupyterNotebook\\0305_ET(120_900)_agd80\\0305鉱油(30,wax)11_02_SP50_ExtraT120_agd80.txt',sep = ',',encoding = 'utf-8')\n",
    "OldOil_0305_agd80_ET120 = pd.read_csv(r'C:\\Users\\Administrator\\Desktop\\Toko实验室\\Data\\Data_JupyterNotebook\\0305_ET(120_900)_agd80\\0305劣化鉱油(30um,wax)11_02_SP50_ExtraT120_agd80.txt',sep = ',',encoding = 'utf-8')\n",
    "Oil_0305_agd80_ET900 = pd.read_csv(r'C:\\Users\\Administrator\\Desktop\\Toko实验室\\Data\\Data_JupyterNotebook\\0305_ET(120_900)_agd80\\0305鉱油(30,wax)11_02_SP50_ExtraT900_agd80.txt',sep = ',',encoding = 'utf-8')\n",
    "OldOil_0305_agd80_ET900 = pd.read_csv(r'C:\\Users\\Administrator\\Desktop\\Toko实验室\\Data\\Data_JupyterNotebook\\0305_ET(120_900)_agd80\\0305劣化鉱油(30um,wax)11_02_SP50_ExtraT900_agd80.txt',sep = ',',encoding = 'utf-8')\n",
    "\n",
    "None_0303_agd80 = np.array(None_0303_agd80)\n",
    "Oil_0303_agd80 = np.array(Oil_0303_agd80)\n",
    "OldOil_0303_agd80 = np.array(OldOil_0303_agd80)\n",
    "\n",
    "None_0303_agd130 = np.array(None_0303_agd130)\n",
    "Oil_0303_agd130 = np.array(Oil_0303_agd130)\n",
    "OldOil_0303_agd130 = np.array(OldOil_0303_agd130)\n",
    "\n",
    "None_0304_agd50 = np.array(None_0304_agd50)\n",
    "Oil_0304_agd50 = np.array(Oil_0304_agd50)\n",
    "OldOil_0304_agd50 = np.array(OldOil_0304_agd50)\n",
    "\n",
    "None_0304_agd80 = np.array(None_0304_agd80)\n",
    "Oil_0304_agd80 = np.array(Oil_0304_agd80)\n",
    "OldOil_0304_agd80 = np.array(OldOil_0304_agd80)\n",
    "\n",
    "\n",
    "None_0305_agd80_ET120 = np.array(None_0305_agd80_ET120)\n",
    "Oil_0305_agd80_ET120 = np.array(Oil_0305_agd80_ET120)\n",
    "OldOil_0305_agd80_ET120 = np.array(OldOil_0305_agd80_ET120)\n",
    "Oil_0305_agd80_ET900 = np.array(Oil_0305_agd80_ET900)\n",
    "OldOil_0305_agd80_ET900 = np.array(OldOil_0305_agd80_ET900)"
   ]
  },
  {
   "cell_type": "code",
   "execution_count": 25,
   "metadata": {
    "pycharm": {
     "is_executing": false,
     "name": "#%%\n"
    }
   },
   "outputs": [],
   "source": [
    "# 甲烷\n",
    "oilC7H8_Max = [ [np.max(Oil_0303_agd80[295:310,1]) ],\n",
    "                [np.max(Oil_0303_agd130[295:310,1])],\n",
    "                [np.max(Oil_0304_agd50[295:310,1]) ],\n",
    "                [np.max(Oil_0304_agd80[295:310,1]) ],\n",
    "                [np.max(Oil_0305_agd80_ET120[295:310,1]) ],\n",
    "                [np.max(Oil_0305_agd80_ET900[295:310,1]) ] ]\n",
    "\n",
    "oldoilC7H8_Max = [ [np.max(OldOil_0303_agd80[295:310,1]) ],\n",
    "                   [np.max(OldOil_0303_agd130[295:310,1])],\n",
    "                   [np.max(OldOil_0304_agd50[295:310,1]) ],\n",
    "                   [np.max(OldOil_0304_agd80[295:310,1]) ],\n",
    "                   [np.max(OldOil_0305_agd80_ET120[295:310,1]) ],\n",
    "                   [np.max(OldOil_0305_agd80_ET900[295:310,1]) ] ]\n",
    "\n",
    "# agd80 : \n",
    "oilC7H8_agd80_Max = [ [np.max(Oil_0303_agd80[295:310,1]) ],\n",
    "                    [np.max(Oil_0304_agd80[295:310,1]) ],\n",
    "                    [np.max(Oil_0305_agd80_ET120[295:310,1]) ] ]\n",
    "\n",
    "oldoilC7H8_agd80_Max = [ [np.max(OldOil_0303_agd80[295:310,1]) ],\n",
    "                         [np.max(OldOil_0304_agd80[295:310,1]) ],\n",
    "                         [np.max(OldOil_0305_agd80_ET120[295:310,1]) ] ]\n",
    "\n"
   ]
  },
  {
   "cell_type": "code",
   "execution_count": 26,
   "metadata": {
    "pycharm": {
     "is_executing": false,
     "name": "#%%\n"
    }
   },
   "outputs": [],
   "source": [
    "# 中分子 平均值\n",
    "oil_agd80_MidMol = [ [ np.mean(Oil_0303_agd80[1462:2302,1]) ],\n",
    "                     [ np.mean(Oil_0304_agd80[1462:2302,1]) ],\n",
    "                     [ np.mean(Oil_0305_agd80_ET120[1462:2302,1]) ] ]\n",
    "    \n",
    "oldoil_agd80_MidMol = [ [ np.mean(OldOil_0303_agd80[1462:2302,1]) ],\n",
    "                        [ np.mean(OldOil_0304_agd80[1462:2302,1]) ],\n",
    "                        [ np.mean(OldOil_0305_agd80_ET120[1462:2302,1]) ] ]"
   ]
  },
  {
   "cell_type": "code",
   "execution_count": 49,
   "metadata": {
    "pycharm": {
     "is_executing": false,
     "name": "#%%\n"
    }
   },
   "outputs": [
    {
     "data": {
      "text/plain": [
       "array([[ 20161.        ,  64356.35952381],\n",
       "       [ 17756.        ,  64518.32142857],\n",
       "       [ 17139.        ,  69827.7047619 ],\n",
       "       [101226.        ,  91812.6952381 ],\n",
       "       [107105.        ,  83503.82619048],\n",
       "       [108692.        ,  89644.35119048]])"
      ]
     },
     "execution_count": 49,
     "metadata": {},
     "output_type": "execute_result"
    }
   ],
   "source": [
    "# [[20161.0], [17756.0], [17139.0]]\n",
    "# oilC7H8_agd80_Max\n",
    "# [[101226.0], [107105.0], [108692.0]]\n",
    "# oldoilC7H8_agd80_Max\n",
    "\n",
    "# [[64356.35952380952], [64518.32142857143], [69827.70476190477]]\n",
    "# oil_agd80_MidMol\n",
    "# [[91812.69523809524], [83503.82619047619], [89644.35119047618]]\n",
    "# oldoil_agd80_MidMol\n",
    "\n",
    "oilC7H8_agd80_Max = np.array(oilC7H8_agd80_Max)\n",
    "oil_agd80_MidMol = np.array(oil_agd80_MidMol )\n",
    "oldoilC7H8_agd80_Max = np.array(oldoilC7H8_agd80_Max)\n",
    "oldoil_agd80_MidMol = np.array(oldoil_agd80_MidMol )\n",
    "\n",
    "oil_temp01 = np.hstack( (oilC7H8_agd80_Max , oil_agd80_MidMol)  )\n",
    "oldoil_temp01 = np.hstack( (oldoilC7H8_agd80_Max , oldoil_agd80_MidMol)  )\n",
    "\n",
    "raw_data_X = np.vstack( (oil_temp01,oldoil_temp01) )\n",
    "# raw_data_X\n",
    "                # [oldoilC7H8_agd80_Max , oldoil_agd80_MidMol] ]\n",
    "raw_data_y  = [0, 0, 0, 1, 1, 1]\n",
    "y_train = np.array(raw_data_y)\n",
    "X_train = np.array(raw_data_X)"
   ]
  },
  {
   "cell_type": "code",
   "execution_count": 50,
   "metadata": {
    "pycharm": {
     "is_executing": false,
     "name": "#%%\n"
    }
   },
   "outputs": [
    {
     "data": {
      "image/png": "[encoded data removed]",
      "text/plain": [
       "<Figure size 432x288 with 1 Axes>"
      ]
     },
     "metadata": {
      "needs_background": "light"
     },
     "output_type": "display_data"
    }
   ],
   "source": [
    "# plt.scatter(oilC7H8_agd80_Max[:,0], oilC7H8_agd80_Max[:,1], color='red')\n",
    "# plt.scatter(oldoilC7H8_agd80_Max[:,], oldoilC7H8_agd80_Max[:,1], color='blue')\n",
    "# plt.show()\n",
    "plt.scatter(X_train[y_train==0,0], X_train[y_train==0,1], color='g')\n",
    "plt.scatter(X_train[y_train==1,0], X_train[y_train==1,1], color='r')\n",
    "plt.show()"
   ]
  },
  {
   "cell_type": "code",
   "execution_count": null,
   "metadata": {
    "pycharm": {
     "name": "#%%\n"
    }
   },
   "outputs": [],
   "source": [
    "# from sklearn.preprocessing import StandardScaler\n",
    "# standardScaler = StandardScaler()\n",
    "# standardScaler.fit(X)\n",
    "# X_standard = standardScaler.transform(X)\n",
    "# \n",
    "# from sklearn.svm import LinearSVC\n",
    "# svc = LinearSVC(C=1e9)\n",
    "# svc.fit(X_standard, y)\n",
    "\n",
    "\n",
    "\n",
    "\n",
    "\n",
    "\n",
    "\n",
    "\n",
    "\n",
    "\n",
    "\n"
   ]
  }
 ],
 "metadata": {
  "kernelspec": {
   "display_name": "Python 3",
   "language": "python",
   "name": "python3"
  },
  "language_info": {
   "codemirror_mode": {
    "name": "ipython",
    "version": 3
   },
   "file_extension": ".py",
   "mimetype": "text/x-python",
   "name": "python",
   "nbconvert_exporter": "python",
   "pygments_lexer": "ipython3",
   "version": "3.7.4"
  },
  "pycharm": {
   "stem_cell": {
    "cell_type": "raw",
    "metadata": {
     "collapsed": false
    },
    "source": []
   }
  }
 },
 "nbformat": 4,
 "nbformat_minor": 1
}
