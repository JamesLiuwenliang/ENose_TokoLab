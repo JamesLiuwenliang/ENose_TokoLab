{
 "cells": [
  {
   "cell_type": "code",
   "execution_count": 1,
   "outputs": [],
   "source": [
    "import numpy as np\n",
    "import matplotlib as mpl\n",
    "import matplotlib.pyplot as plt\n",
    "from sklearn import datasets\n",
    "iris = datasets.load_iris()\n",
    "import pandas as pd\n",
    "\n",
    "None_0303_agd80 = pd.read_csv(r'C:\\Users\\Administrator\\Desktop\\Toko实验室\\Data\\Data_JupyterNotebook\\0303_agd80\\0303NONE_wax11_02_SP50_agd80.txt',sep = ',',encoding = 'utf-8')\n",
    "Oil_0303_agd80 = pd.read_csv(r'C:\\Users\\Administrator\\Desktop\\Toko实验室\\Data\\Data_JupyterNotebook\\0303_agd80\\0303鉱油(30,wax)11_02_SP50_agd80.txt',sep = ',',encoding = 'utf-8')\n",
    "OldOil_0303_agd80 = pd.read_csv(r'C:\\Users\\Administrator\\Desktop\\Toko实验室\\Data\\Data_JupyterNotebook\\0303_agd80\\0303劣化鉱油(30um,wax)11_02_SP50_agd80.txt',sep = ',',encoding = 'utf-8')\n",
    "\n",
    "None_0303_agd130 = pd.read_csv(r'C:\\Users\\Administrator\\Desktop\\Toko实验室\\Data\\Data_JupyterNotebook\\0303_agd130\\0303NONE_wax11_02_SP50.txt',sep = ',',encoding = 'utf-8')\n",
    "Oil_0303_agd130 = pd.read_csv(r'C:\\Users\\Administrator\\Desktop\\Toko实验室\\Data\\Data_JupyterNotebook\\0303_agd130\\0303鉱油(30,wax)11_02_SP50.txt',sep = ',',encoding = 'utf-8')\n",
    "OldOil_0303_agd130 = pd.read_csv(r'C:\\Users\\Administrator\\Desktop\\Toko实验室\\Data\\Data_JupyterNotebook\\0303_agd130\\0303劣化鉱油(30um,wax)11_02_SP50.txt',sep = ',',encoding = 'utf-8')\n",
    "\n",
    "None_0304_agd50 = pd.read_csv(r'C:\\Users\\Administrator\\Desktop\\Toko实验室\\Data\\Data_JupyterNotebook\\0304_agd50\\0304NONE_wax11_02_SP50_agd50.txt',sep = ',',encoding = 'utf-8')\n",
    "Oil_0304_agd50 = pd.read_csv(r'C:\\Users\\Administrator\\Desktop\\Toko实验室\\Data\\Data_JupyterNotebook\\0304_agd50\\0304鉱油(30,wax)11_02_SP50_agd50.txt',sep = ',',encoding = 'utf-8')\n",
    "OldOil_0304_agd50 = pd.read_csv(r'C:\\Users\\Administrator\\Desktop\\Toko实验室\\Data\\Data_JupyterNotebook\\0304_agd50\\0304劣化鉱油(30um,wax)11_02_SP50_agd50.txt',sep = ',',encoding = 'utf-8')\n",
    "\n",
    "None_0304_agd80 = pd.read_csv(r'C:\\Users\\Administrator\\Desktop\\Toko实验室\\Data\\Data_JupyterNotebook\\0304_agd80\\0304NONE_wax11_02_SP50_agd80.txt',sep = ',',encoding = 'utf-8')\n",
    "Oil_0304_agd80 = pd.read_csv(r'C:\\Users\\Administrator\\Desktop\\Toko实验室\\Data\\Data_JupyterNotebook\\0304_agd80\\0304鉱油(30,wax)11_02_SP50_agd80.txt',sep = ',',encoding = 'utf-8')\n",
    "OldOil_0304_agd80 = pd.read_csv(r'C:\\Users\\Administrator\\Desktop\\Toko实验室\\Data\\Data_JupyterNotebook\\0304_agd80\\0304劣化鉱油(30um,wax)11_02_SP50_agd80.txt',sep = ',',encoding = 'utf-8')\n",
    "\n",
    "None_0305_agd80_ET120 = pd.read_csv(r'C:\\Users\\Administrator\\Desktop\\Toko实验室\\Data\\Data_JupyterNotebook\\0305_ET(120_900)_agd80\\0305NONE_wax11_02_SP50_ExtraT120_agd80.txt',sep = ',',encoding = 'utf-8')\n",
    "Oil_0305_agd80_ET120 = pd.read_csv(r'C:\\Users\\Administrator\\Desktop\\Toko实验室\\Data\\Data_JupyterNotebook\\0305_ET(120_900)_agd80\\0305鉱油(30,wax)11_02_SP50_ExtraT120_agd80.txt',sep = ',',encoding = 'utf-8')\n",
    "OldOil_0305_agd80_ET120 = pd.read_csv(r'C:\\Users\\Administrator\\Desktop\\Toko实验室\\Data\\Data_JupyterNotebook\\0305_ET(120_900)_agd80\\0305劣化鉱油(30um,wax)11_02_SP50_ExtraT120_agd80.txt',sep = ',',encoding = 'utf-8')\n",
    "Oil_0305_agd80_ET900 = pd.read_csv(r'C:\\Users\\Administrator\\Desktop\\Toko实验室\\Data\\Data_JupyterNotebook\\0305_ET(120_900)_agd80\\0305鉱油(30,wax)11_02_SP50_ExtraT900_agd80.txt',sep = ',',encoding = 'utf-8')\n",
    "OldOil_0305_agd80_ET900 = pd.read_csv(r'C:\\Users\\Administrator\\Desktop\\Toko实验室\\Data\\Data_JupyterNotebook\\0305_ET(120_900)_agd80\\0305劣化鉱油(30um,wax)11_02_SP50_ExtraT900_agd80.txt',sep = ',',encoding = 'utf-8')\n",
    "\n",
    "None_0303_agd80 = np.array(None_0303_agd80)\n",
    "Oil_0303_agd80 = np.array(Oil_0303_agd80)\n",
    "OldOil_0303_agd80 = np.array(OldOil_0303_agd80)\n",
    "\n",
    "None_0303_agd130 = np.array(None_0303_agd130)\n",
    "Oil_0303_agd130 = np.array(Oil_0303_agd130)\n",
    "OldOil_0303_agd130 = np.array(OldOil_0303_agd130)\n",
    "\n",
    "None_0304_agd50 = np.array(None_0304_agd50)\n",
    "Oil_0304_agd50 = np.array(Oil_0304_agd50)\n",
    "OldOil_0304_agd50 = np.array(OldOil_0304_agd50)\n",
    "\n",
    "None_0304_agd80 = np.array(None_0304_agd80)\n",
    "Oil_0304_agd80 = np.array(Oil_0304_agd80)\n",
    "OldOil_0304_agd80 = np.array(OldOil_0304_agd80)\n",
    "\n",
    "\n",
    "None_0305_agd80_ET120 = np.array(None_0305_agd80_ET120)\n",
    "Oil_0305_agd80_ET120 = np.array(Oil_0305_agd80_ET120)\n",
    "OldOil_0305_agd80_ET120 = np.array(OldOil_0305_agd80_ET120)\n",
    "Oil_0305_agd80_ET900 = np.array(Oil_0305_agd80_ET900)\n",
    "OldOil_0305_agd80_ET900 = np.array(OldOil_0305_agd80_ET900)"
   ],
   "metadata": {
    "collapsed": false,
    "pycharm": {
     "name": "#%%\n",
     "is_executing": false
    }
   }
  },
  {
   "cell_type": "code",
   "execution_count": 2,
   "outputs": [],
   "source": [
    "# 甲烷\n",
    "oilC7H8_Max = [ [np.max(Oil_0303_agd80[295:310,1]) ],\n",
    "                [np.max(Oil_0303_agd130[295:310,1])],\n",
    "                [np.max(Oil_0304_agd50[295:310,1]) ],\n",
    "                [np.max(Oil_0304_agd80[295:310,1]) ],\n",
    "                [np.max(Oil_0305_agd80_ET120[295:310,1]) ],\n",
    "                [np.max(Oil_0305_agd80_ET900[295:310,1]) ] ]\n",
    "\n",
    "oldoilC7H8_Max = [ [np.max(OldOil_0303_agd80[295:310,1]) ],\n",
    "                   [np.max(OldOil_0303_agd130[295:310,1])],\n",
    "                   [np.max(OldOil_0304_agd50[295:310,1]) ],\n",
    "                   [np.max(OldOil_0304_agd80[295:310,1]) ],\n",
    "                   [np.max(OldOil_0305_agd80_ET120[295:310,1]) ],\n",
    "                   [np.max(OldOil_0305_agd80_ET900[295:310,1]) ] ]\n",
    "\n",
    "# agd80 : \n",
    "oilC7H8_agd80_Max = [ [np.max(Oil_0303_agd80[295:310,1]) ],\n",
    "                    [np.max(Oil_0304_agd80[295:310,1]) ],\n",
    "                    [np.max(Oil_0305_agd80_ET120[295:310,1]) ] ]\n",
    "\n",
    "oldoilC7H8_agd80_Max = [ [np.max(OldOil_0303_agd80[295:310,1]) ],\n",
    "                         [np.max(OldOil_0304_agd80[295:310,1]) ],\n",
    "                         [np.max(OldOil_0305_agd80_ET120[295:310,1]) ] ]\n",
    "\n"
   ],
   "metadata": {
    "collapsed": false,
    "pycharm": {
     "name": "#%%\n",
     "is_executing": false
    }
   }
  },
  {
   "cell_type": "code",
   "execution_count": 4,
   "outputs": [],
   "source": [
    "# 中分子 平均值\n",
    "oil_agd80_MidMol = [ [ np.mean(Oil_0303_agd80[1462:2302,1]) ],\n",
    "                     [ np.mean(Oil_0304_agd80[1462:2302,1]) ],\n",
    "                     [ np.mean(Oil_0305_agd80_ET120[1462:2302,1]) ] ]\n",
    "    \n",
    "oldoil_agd80_MidMol = [ [ np.mean(OldOil_0303_agd80[1462:2302,1]) ],\n",
    "                        [ np.mean(OldOil_0304_agd80[1462:2302,1]) ],\n",
    "                        [ np.mean(OldOil_0305_agd80_ET120[1462:2302,1]) ] ]"
   ],
   "metadata": {
    "collapsed": false,
    "pycharm": {
     "name": "#%%\n",
     "is_executing": false
    }
   }
  },
  {
   "cell_type": "code",
   "execution_count": 5,
   "outputs": [],
   "source": [
    "oilC7H8_agd80_Max = np.array(oilC7H8_agd80_Max)\n",
    "oil_agd80_MidMol = np.array(oil_agd80_MidMol )\n",
    "oldoilC7H8_agd80_Max = np.array(oldoilC7H8_agd80_Max)\n",
    "oldoil_agd80_MidMol = np.array(oldoil_agd80_MidMol )\n",
    "\n",
    "oil_temp01 = np.hstack( (oilC7H8_agd80_Max , oil_agd80_MidMol)  )\n",
    "oldoil_temp01 = np.hstack( (oldoilC7H8_agd80_Max , oldoil_agd80_MidMol)  )\n",
    "\n",
    "raw_data_X = np.vstack( (oil_temp01,oldoil_temp01) )\n",
    "# raw_data_X\n",
    "                # [oldoilC7H8_agd80_Max , oldoil_agd80_MidMol] ]\n",
    "raw_data_y  = [0, 0, 0, 1, 1, 1]\n",
    "y_train = np.array(raw_data_y)\n",
    "X_train = np.array(raw_data_X)\n"
   ],
   "metadata": {
    "collapsed": false,
    "pycharm": {
     "name": "#%%\n",
     "is_executing": false
    }
   }
  },
  {
   "cell_type": "code",
   "execution_count": 10,
   "metadata": {
    "collapsed": true,
    "pycharm": {
     "is_executing": false
    }
   },
   "outputs": [
    {
     "data": {
      "text/plain": "array([[ 19593.79164045,  66612.44539544],\n       [ 17370.06861466,  66053.37346231],\n       [ 18045.23805191,  66223.11954943],\n       [102331.92439606,  87413.85244425],\n       [105896.65004139,  88310.06929972],\n       [108841.32725555,  89050.39818217]])"
     },
     "metadata": {},
     "output_type": "execute_result",
     "execution_count": 10
    }
   ],
   "source": [
    "# scikit-learn中的PCA\n",
    "from sklearn.decomposition import PCA\n",
    "\n",
    "pca = PCA(n_components=1)\n",
    "pca.fit(X_train)\n",
    "\n",
    "pca.components_\n",
    "\n",
    "X_reduction = pca.transform(X_train)\n",
    "X_reduction.shape\n",
    "X_restore = pca.inverse_transform(X_reduction)\n",
    "X_restore"
   ]
  },
  {
   "cell_type": "code",
   "execution_count": 13,
   "outputs": [
    {
     "data": {
      "text/plain": "<Figure size 432x288 with 1 Axes>",
      "image/png": "[encoded data removed]"
     },
     "metadata": {
      "needs_background": "light"
     },
     "output_type": "display_data"
    }
   ],
   "source": [
    "plt.figure()\n",
    "plt.scatter(X_train[:,0], X_train[:,1], color='b', alpha=0.5)\n",
    "plt.scatter(X_restore[:,0], X_restore[:,1], color='r', alpha=0.5)\n",
    "plt.show()\n"
   ],
   "metadata": {
    "collapsed": false,
    "pycharm": {
     "name": "#%%\n",
     "is_executing": false
    }
   }
  }
 ],
 "metadata": {
  "kernelspec": {
   "display_name": "Python 3",
   "language": "python",
   "name": "python3"
  },
  "language_info": {
   "codemirror_mode": {
    "name": "ipython",
    "version": 2
   },
   "file_extension": ".py",
   "mimetype": "text/x-python",
   "name": "python",
   "nbconvert_exporter": "python",
   "pygments_lexer": "ipython2",
   "version": "2.7.6"
  },
  "pycharm": {
   "stem_cell": {
    "cell_type": "raw",
    "source": [],
    "metadata": {
     "collapsed": false
    }
   }
  }
 },
 "nbformat": 4,
 "nbformat_minor": 0
}